{
  "nbformat": 4,
  "nbformat_minor": 0,
  "metadata": {
    "colab": {
      "name": "InventoryManagementSystem.ipynb",
      "provenance": []
    },
    "kernelspec": {
      "name": "python3",
      "display_name": "Python 3"
    },
    "language_info": {
      "name": "python"
    }
  },
  "cells": [
    {
      "cell_type": "code",
      "metadata": {
        "id": "GhZJB9fOMKFg"
      },
      "source": [
        "import json"
      ],
      "execution_count": 8,
      "outputs": []
    },
    {
      "cell_type": "code",
      "metadata": {
        "id": "ly3jRT6FNa4Q"
      },
      "source": [
        "fd = open('data.json','w')"
      ],
      "execution_count": 9,
      "outputs": []
    },
    {
      "cell_type": "code",
      "metadata": {
        "id": "S-vm1gQPNsoF"
      },
      "source": [
        "inventory = {\n",
        "    101 : {\"item\": \"fullfatmilk\" ,  \"price\" : 70 , \"quantity\" : 10 ,   \"category\": \"drink\",           \"unit\" : \"ml\"},\n",
        "    102 : {\"item\": \"maaza\" ,        \"price\" : 45 , \"quantity\" : 100 ,  \"category\": \"drink\",           \"unit\" : \"ml\"},\n",
        "    103 : {\"item\": \"choco shake\" ,  \"price\" : 20, \"quantity\" : 50 ,    \"category\": \"drink\",           \"unit\" : \"ml\"},\n",
        "    104 : {\"item\": \"ibaco\" ,        \"price\" : 30 , \"quantity\" : 200 ,  \"category\": \"icecream\",        \"unit\" : \"g\"},\n",
        "    105 : {\"item\": \"cupice\" ,       \"price\" : 15 , \"quantity\" : 75 ,   \"category\": \"icecream\" ,       \"unit\" : \"g\"},\n",
        "    106 : {\"item\": \"coneice\" ,      \"price\" : 25 , \"quantity\" : 50 ,   \"category\": \"icecream\" ,       \"unit\" : \"g\"},\n",
        "    107 : {\"item\": \"butter\" ,       \"price\" : 248, \"quantity\" : 500 ,  \"category\": \"butter\" ,         \"unit\" : \"g\"},\n",
        "    108 : {\"item\": \"salted butter\" ,\"price\" : 250 ,\"quantity\" : 50 ,   \"category\": \"butter\",          \"unit\" : \"g\"},\n",
        "    109 : {\"item\": \"cheese cubes\" , \"price\" : 110 ,\"quantity\" : 100 ,  \"category\": \"cheese\" ,         \"unit\" : \"g\"},\n",
        "    200 : {\"item\": \"cheese slice\" , \"price\" : 50 , \"quantity\" : 30 ,   \"category\": \"cheese\" ,         \"unit\" : \"g\"},\n",
        "    201 : {\"item\": \"mozzarella\" ,   \"price\" : 250 ,\"quantity\" : 100 ,  \"category\": \"cheese\" ,         \"unit\" : \"g\"},\n",
        "    202 : {\"item\": \"milkshake\" ,    \"price\" : 30 , \"quantity\" : 10 ,   \"category\": \"drink\",           \"unit\" : \"ml\"},\n",
        "    203 : {\"item\": \"yogurt\" ,       \"price\" : 175 ,\"quantity\" : 100 ,  \"category\": \"cultured dairy\",  \"unit\" : \"g\"},\n",
        "    204 : {\"item\": \"sour cream\" ,   \"price\" : 105 ,\"quantity\" : 100 ,  \"category\": \"cultured dairy\",  \"unit\" : \"g\"},\n",
        "    205 : {\"item\": \"cottage cheese\",\"price\" : 210 ,\"quantity\" : 100 ,  \"category\": \"cultured dairy\",  \"unit\" : \"g\"},\n",
        "    206 : {\"item\": \"mojito cake\" ,  \"price\" : 90 , \"quantity\" : 50 ,   \"category\": \"icecream\",        \"unit\" : \"g\"},\n",
        "    207 : {\"item\": \"avocado pops\",  \"price\" : 80 , \"quantity\" : 300 ,  \"category\": \"icecream\",        \"unit\" : \"g\"},\n",
        "    208 : {\"item\": \"ghee\" ,         \"price\" : 140 ,\"quantity\" : 400 ,  \"category\": \"butter\",          \"unit\" : \"ml\"},\n",
        "    209 : {\"item\": \"buttermilk\" ,   \"price\" : 10 , \"quantity\" : 500 ,  \"category\": \"drink\",           \"unit\" : \"ml\"},\n",
        "    300 : {\"item\": \"rosemilk\" ,     \"price\" : 10  ,\"quantity\" : 1000,  \"category\": \"drink\",           \"unit\" : \"ml\"},\n",
        "    301 : {\"item\": \"milk\" ,         \"price\" : 34 , \"quantity\" : 500 ,  \"category\": \"drink\",           \"unit\" : \"ml\"},\n",
        "    302 : {\"item\": \"paneer\" ,       \"price\" : 95 , \"quantity\" : 200 ,  \"category\": \"cultured dairy\",  \"unit\" : \"g\"},\n",
        "    303 : {\"item\": \"jollytrain\" ,   \"price\" : 25 , \"quantity\" : 100 ,  \"category\": \"icecream\",        \"unit\" : \"ml\"},\n",
        "    304 : {\"item\": \"spiral\" ,       \"price\" : 35 , \"quantity\" : 200 ,  \"category\": \"icecream\",        \"unit\" : \"ml\"},\n",
        "    305 : {\"item\": \"curd\" ,         \"price\" : 45 , \"quantity\" : 80 ,   \"category\": \"cultured dairy\",  \"unit\" : \"g\"},\n",
        "    306 : {\"item\": \"fam-pack(s)\",   \"price\" : 300, \"quantity\" : 80 ,   \"category\": \"icecream\",        \"unit\" : \"g\"},\n",
        "    307 : {\"item\": \"fanta\" ,        \"price\" : 70 , \"quantity\" : 90 ,   \"category\": \"drink\",           \"unit\" : \"ml\"},\n",
        "    308 : {\"item\": \"fam-pack(l)\",   \"price\" : 650, \"quantity\" : 40 ,   \"category\": \"icecream\",        \"unit\" : \"g`\"},\n",
        "    309 : {\"item\": \"7up(s)\" ,       \"price\" : 45 , \"quantity\" : 100 ,  \"category\": \"drink\",           \"unit\" : \"ml\"},\n",
        "    400 : {\"item\": \"7up(l)\" ,       \"price\" : 80 , \"quantity\" : 300 ,  \"category\": \"drink\",           \"unit\" : \"ml\"}\n",
        "    \n",
        "  }\n",
        "js = json.dumps(inventory)"
      ],
      "execution_count": 11,
      "outputs": []
    },
    {
      "cell_type": "code",
      "metadata": {
        "colab": {
          "base_uri": "https://localhost:8080/",
          "height": 169
        },
        "id": "UJotqdLHomTD",
        "outputId": "764ed182-c0c4-4c01-c598-1c58e2644542"
      },
      "source": [
        "js"
      ],
      "execution_count": 12,
      "outputs": [
        {
          "output_type": "execute_result",
          "data": {
            "application/vnd.google.colaboratory.intrinsic+json": {
              "type": "string"
            },
            "text/plain": [
              "'{\"101\": {\"item\": \"fullfatmilk\", \"price\": 70, \"quantity\": 10, \"category\": \"drink\", \"unit\": \"ml\"}, \"102\": {\"item\": \"maaza\", \"price\": 45, \"quantity\": 100, \"category\": \"drink\", \"unit\": \"ml\"}, \"103\": {\"item\": \"choco shake\", \"price\": 20, \"quantity\": 50, \"category\": \"drink\", \"unit\": \"ml\"}, \"104\": {\"item\": \"ibaco\", \"price\": 30, \"quantity\": 200, \"category\": \"icecream\", \"unit\": \"g\"}, \"105\": {\"item\": \"cupice\", \"price\": 15, \"quantity\": 75, \"category\": \"icecream\", \"unit\": \"g\"}, \"106\": {\"item\": \"coneice\", \"price\": 25, \"quantity\": 50, \"category\": \"icecream\", \"unit\": \"g\"}, \"107\": {\"item\": \"butter\", \"price\": 248, \"quantity\": 500, \"category\": \"butter\", \"unit\": \"g\"}, \"108\": {\"item\": \"salted butter\", \"price\": 250, \"quantity\": 50, \"category\": \"butter\", \"unit\": \"g\"}, \"109\": {\"item\": \"cheese cubes\", \"price\": 110, \"quantity\": 100, \"category\": \"cheese\", \"unit\": \"g\"}, \"200\": {\"item\": \"cheese slice\", \"price\": 50, \"quantity\": 30, \"category\": \"cheese\", \"unit\": \"g\"}, \"201\": {\"item\": \"mozzarella\", \"price\": 250, \"quantity\": 100, \"category\": \"cheese\", \"unit\": \"g\"}, \"202\": {\"item\": \"milkshake\", \"price\": 30, \"quantity\": 10, \"category\": \"drink\", \"unit\": \"ml\"}, \"203\": {\"item\": \"yogurt\", \"price\": 175, \"quantity\": 100, \"category\": \"cultured dairy\", \"unit\": \"g\"}, \"204\": {\"item\": \"sour cream\", \"price\": 105, \"quantity\": 100, \"category\": \"cultured dairy\", \"unit\": \"g\"}, \"205\": {\"item\": \"cottage cheese\", \"price\": 210, \"quantity\": 100, \"category\": \"cultured dairy\", \"unit\": \"g\"}, \"206\": {\"item\": \"mojito cake\", \"price\": 90, \"quantity\": 50, \"category\": \"icecream\", \"unit\": \"g\"}, \"207\": {\"item\": \"avocado pops\", \"price\": 80, \"quantity\": 300, \"category\": \"icecream\", \"unit\": \"g\"}, \"208\": {\"item\": \"ghee\", \"price\": 140, \"quantity\": 400, \"category\": \"butter\", \"unit\": \"ml\"}, \"209\": {\"item\": \"buttermilk\", \"price\": 10, \"quantity\": 500, \"category\": \"drink\", \"unit\": \"ml\"}, \"300\": {\"item\": \"rosemilk\", \"price\": 10, \"quantity\": 1000, \"category\": \"drink\", \"unit\": \"ml\"}, \"301\": {\"item\": \"milk\", \"price\": 34, \"quantity\": 500, \"category\": \"drink\", \"unit\": \"ml\"}, \"302\": {\"item\": \"paneer\", \"price\": 95, \"quantity\": 200, \"category\": \"cultured dairy\", \"unit\": \"g\"}, \"303\": {\"item\": \"jollytrain\", \"price\": 25, \"quantity\": 100, \"category\": \"icecream\", \"unit\": \"ml\"}, \"304\": {\"item\": \"spiral\", \"price\": 35, \"quantity\": 200, \"category\": \"icecream\", \"unit\": \"ml\"}, \"305\": {\"item\": \"curd\", \"price\": 45, \"quantity\": 80, \"category\": \"cultured dairy\", \"unit\": \"g\"}, \"306\": {\"item\": \"fam-pack(s)\", \"price\": 300, \"quantity\": 80, \"category\": \"icecream\", \"unit\": \"g\"}, \"307\": {\"item\": \"fanta\", \"price\": 70, \"quantity\": 90, \"category\": \"drink\", \"unit\": \"ml\"}, \"308\": {\"item\": \"fam-pack(l)\", \"price\": 650, \"quantity\": 40, \"category\": \"icecream\", \"unit\": \"g`\"}, \"309\": {\"item\": \"7up(s)\", \"price\": 45, \"quantity\": 100, \"category\": \"drink\", \"unit\": \"ml\"}, \"400\": {\"item\": \"7up(l)\", \"price\": 80, \"quantity\": 300, \"category\": \"drink\", \"unit\": \"ml\"}}'"
            ]
          },
          "metadata": {},
          "execution_count": 12
        }
      ]
    },
    {
      "cell_type": "code",
      "metadata": {
        "colab": {
          "base_uri": "https://localhost:8080/"
        },
        "id": "I2gnwAl_omd6",
        "outputId": "3206e001-3f69-4eda-8d8d-1a2669f6daa5"
      },
      "source": [
        "fd.write(js)"
      ],
      "execution_count": 13,
      "outputs": [
        {
          "output_type": "execute_result",
          "data": {
            "text/plain": [
              "2892"
            ]
          },
          "metadata": {},
          "execution_count": 13
        }
      ]
    },
    {
      "cell_type": "code",
      "metadata": {
        "id": "V60sdCHyomfo"
      },
      "source": [
        "fd.close()"
      ],
      "execution_count": 14,
      "outputs": []
    },
    {
      "cell_type": "code",
      "metadata": {
        "colab": {
          "base_uri": "https://localhost:8080/"
        },
        "id": "uuVpAJJlomi-",
        "outputId": "c6943aba-4deb-41ed-b746-cdf740f206fb"
      },
      "source": [
        "ui = open(\"order.txt\",\"w\")\n",
        "value =int(input(\"enter the number of items you want to buy: \"))\n",
        "fd = open(\"data.json\",\"r\")\n",
        "read = fd.read()\n",
        "receipt = json.loads(read)\n",
        "\n",
        "\n",
        "total_bill=0\n",
        "ui.write(\"Welcome to Dars dairy foods&beverages\\n1-------------------------------------\\n\")    \n",
        "ui.write(\"!*!*Get 5% off on your total purchase*!*!\\n-------------------------------------\\n\")    \n",
        "\n",
        "for i in range(value):\n",
        "    pd_id = str(input(\"enter the id: \"))\n",
        "    quan = int(input(\"enter the quantity of product: \"))\n",
        "    if quan <= receipt[pd_id][\"quantity\"]:\n",
        "        receipt[pd_id][\"quantity\"] = receipt[pd_id][\"quantity\"]-quan\n",
        "        total_bill += quan*receipt[pd_id][\"price\"]\n",
        "    ui.write(\"your order: {} quantity of {} under category {}\\n \".format( str(quan) , str(receipt[pd_id][\"item\"]) , str(receipt[pd_id][\"category\"]) ))\n",
        "        \n",
        "    \n",
        "\n",
        "ui.write('\\n-------------------------------------')    \n",
        "ui.write('\\n Total amount is Rs.{}'.format(str(total_bill)))\n",
        "ui.write(\"\\n Discount 5% \")\n",
        "ui.write(\"\\n GrandTotal is Rs.{}\".format(str(total_bill*0.05)))\n",
        "ui.write('\\n-------------------------------------')   \n",
        "ui.write('\\n Best service is out motto \\n Thankyou , visit again')"
      ],
      "execution_count": 29,
      "outputs": [
        {
          "name": "stdout",
          "output_type": "stream",
          "text": [
            "enter the number of items you want to buy: 3\n",
            "enter the id: 207\n",
            "enter the quantity of product: 4\n",
            "enter the id: 108\n",
            "enter the quantity of product: 3\n",
            "enter the id: 400\n",
            "enter the quantity of product: 1\n"
          ]
        },
        {
          "output_type": "execute_result",
          "data": {
            "text/plain": [
              "52"
            ]
          },
          "metadata": {},
          "execution_count": 29
        }
      ]
    },
    {
      "cell_type": "code",
      "metadata": {
        "id": "fJbKvswGomt5"
      },
      "source": [
        ""
      ],
      "execution_count": null,
      "outputs": []
    }
  ]
}